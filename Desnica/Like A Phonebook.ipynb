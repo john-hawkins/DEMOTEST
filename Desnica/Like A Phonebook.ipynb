{
 "cells": [
  {
   "cell_type": "code",
   "execution_count": 1,
   "metadata": {},
   "outputs": [],
   "source": [
    "#Creating a phonebook dictionary\n",
    "#Using Names as keys and phone number as value\n",
    "\n",
    "Phonebook= {'Desnica Kumar':'0411 111 111',\n",
    "            'Elahe Jami':'0422 222 222',\n",
    "            'Rachel McLean':'0433 333 333',\n",
    "            'Gifty Arora':'0444 444 444',\n",
    "            'Natalie Ganderton':'0455 555 555',\n",
    "            'Rajive Islam':'0466 666 666',\n",
    "            'Brandon Pires':'0477 777 777',\n",
    "            'Thomas Cahyadi':'0488 888 888',\n",
    "            'Shel Zaroo':'0499 999 999',\n",
    "            'John Hawkins':'0410 000 000'}"
   ]
  },
  {
   "cell_type": "code",
   "execution_count": 2,
   "metadata": {},
   "outputs": [
    {
     "data": {
      "text/plain": [
       "dict_keys(['Desnica Kumar', 'Elahe Jami', 'Rachel McLean', 'Gifty Arora', 'Natalie Ganderton', 'Rajive Islam', 'Brandon Pires', 'Thomas Cahyadi', 'Shel Zaroo', 'John Hawkins'])"
      ]
     },
     "execution_count": 2,
     "metadata": {},
     "output_type": "execute_result"
    }
   ],
   "source": [
    "#Viewing Phonebook keys\n",
    "Phonebook.keys()"
   ]
  },
  {
   "cell_type": "code",
   "execution_count": 3,
   "metadata": {},
   "outputs": [
    {
     "data": {
      "text/plain": [
       "dict_items([('Desnica Kumar', '0411 111 111'), ('Elahe Jami', '0422 222 222'), ('Rachel McLean', '0433 333 333'), ('Gifty Arora', '0444 444 444'), ('Natalie Ganderton', '0455 555 555'), ('Rajive Islam', '0466 666 666'), ('Brandon Pires', '0477 777 777'), ('Thomas Cahyadi', '0488 888 888'), ('Shel Zaroo', '0499 999 999'), ('John Hawkins', '0410 000 000')])"
      ]
     },
     "execution_count": 3,
     "metadata": {},
     "output_type": "execute_result"
    }
   ],
   "source": [
    "#Viewing Phonebook items\n",
    "Phonebook.items()"
   ]
  },
  {
   "cell_type": "code",
   "execution_count": 4,
   "metadata": {},
   "outputs": [
    {
     "data": {
      "text/plain": [
       "{'Desnica Kumar': '0411 111 111',\n",
       " 'Elahe Jami': '0422 222 222',\n",
       " 'Rachel McLean': '0433 333 333',\n",
       " 'Gifty Arora': '0444 444 444',\n",
       " 'Natalie Ganderton': '0455 555 555',\n",
       " 'Rajive Islam': '0466 666 666',\n",
       " 'Brandon Pires': '0477 777 777',\n",
       " 'Thomas Cahyadi': '0488 888 888',\n",
       " 'Shel Zaroo': '0499 999 999',\n",
       " 'John Hawkins': '0410 000 000',\n",
       " 'New Person': '0412 345 678'}"
      ]
     },
     "execution_count": 4,
     "metadata": {},
     "output_type": "execute_result"
    }
   ],
   "source": [
    "#Adding new entry into phonebook\n",
    "Phonebook.update({'New Person':'0412 345 678'})\n",
    "\n",
    "#Check...\n",
    "Phonebook"
   ]
  },
  {
   "cell_type": "code",
   "execution_count": 5,
   "metadata": {},
   "outputs": [
    {
     "data": {
      "text/plain": [
       "'0411 111 111'"
      ]
     },
     "execution_count": 5,
     "metadata": {},
     "output_type": "execute_result"
    }
   ],
   "source": [
    "#Looking up phone number of specific person\n",
    "Phonebook['Desnica Kumar']"
   ]
  },
  {
   "cell_type": "code",
   "execution_count": 6,
   "metadata": {},
   "outputs": [
    {
     "data": {
      "text/plain": [
       "'0411 111 111'"
      ]
     },
     "execution_count": 6,
     "metadata": {},
     "output_type": "execute_result"
    }
   ],
   "source": [
    "#Remove the record of a specific person...will give phone number or removed record\n",
    "Phonebook.pop('Desnica Kumar')"
   ]
  },
  {
   "cell_type": "code",
   "execution_count": 7,
   "metadata": {},
   "outputs": [
    {
     "data": {
      "text/plain": [
       "{'Elahe Jami': '0422 222 222',\n",
       " 'Rachel McLean': '0433 333 333',\n",
       " 'Gifty Arora': '0444 444 444',\n",
       " 'Natalie Ganderton': '0455 555 555',\n",
       " 'Rajive Islam': '0466 666 666',\n",
       " 'Brandon Pires': '0477 777 777',\n",
       " 'Thomas Cahyadi': '0488 888 888',\n",
       " 'Shel Zaroo': '0499 999 999',\n",
       " 'John Hawkins': '0410 000 000',\n",
       " 'New Person': '0412 345 678'}"
      ]
     },
     "execution_count": 7,
     "metadata": {},
     "output_type": "execute_result"
    }
   ],
   "source": [
    "#Check\n",
    "Phonebook"
   ]
  },
  {
   "cell_type": "code",
   "execution_count": null,
   "metadata": {},
   "outputs": [],
   "source": []
  }
 ],
 "metadata": {
  "kernelspec": {
   "display_name": "Python 3",
   "language": "python",
   "name": "python3"
  },
  "language_info": {
   "codemirror_mode": {
    "name": "ipython",
    "version": 3
   },
   "file_extension": ".py",
   "mimetype": "text/x-python",
   "name": "python",
   "nbconvert_exporter": "python",
   "pygments_lexer": "ipython3",
   "version": "3.7.6"
  }
 },
 "nbformat": 4,
 "nbformat_minor": 4
}
